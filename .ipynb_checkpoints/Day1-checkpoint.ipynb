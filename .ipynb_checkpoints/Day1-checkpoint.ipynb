{
 "cells": [
  {
   "cell_type": "markdown",
   "id": "bb7415b0-7e6e-4e65-be5f-90f906cba4f6",
   "metadata": {},
   "source": [
    "# Part 1"
   ]
  },
  {
   "cell_type": "markdown",
   "id": "82cfa7c1-412c-4c3e-8521-88fef54f0f37",
   "metadata": {},
   "source": [
    "# Libraries"
   ]
  },
  {
   "cell_type": "code",
   "execution_count": 39,
   "id": "62a6eb54-c009-47f8-bcf6-5d0d446c2638",
   "metadata": {},
   "outputs": [],
   "source": [
    "#!pip install pandas\n",
    "import pandas as pd\n",
    "import re"
   ]
  },
  {
   "cell_type": "code",
   "execution_count": 40,
   "id": "cc6ab710-ad61-471f-b5a0-c91457202e53",
   "metadata": {},
   "outputs": [],
   "source": [
    "# Mapping of words to digits\n",
    "word_to_digit = {\n",
    "    'one': '1',\n",
    "    'two': '2',\n",
    "    'three': '3',\n",
    "    'four': '4',\n",
    "    'five': '5',\n",
    "    'six': '6',\n",
    "    'seven': '7',\n",
    "    'eight': '8',\n",
    "    'nine': '9'\n",
    "}\n",
    "# List of words and digits\n",
    "words_and_digits = list(word_to_digit.keys()) + [str(i) for i in range(1, 10)]\n",
    "\n",
    "# Regex pattern\n",
    "pattern = re.compile('(?=(' +'|'.join(words_and_digits) + '))')\n",
    "\n",
    "# Open the file\n",
    "with open('input.txt', 'r') as file:\n",
    "    lines = file.readlines()\n",
    "\n",
    "# Initialize an empty list to store the numbers\n",
    "numbers = []\n",
    "\n",
    "# Iterate over each line\n",
    "for line in lines:\n",
    "    # Find all the numbers in the line and convert words to digits based on word_to_digits\n",
    "    matches = re.findall(pattern, line)\n",
    "    #print(matches)\n",
    "    line_numbers = [int(word_to_digit.get(match, match)) for match in matches]\n",
    "    # print(line_numbers)\n",
    "    # Take first and last number in line\n",
    "    line_number = int(str(line_numbers[0]) + str(line_numbers[-1]))\n",
    "    numbers.append(int(line_number))"
   ]
  },
  {
   "cell_type": "code",
   "execution_count": 41,
   "id": "7bf21738-1419-427c-9ee2-2b9aaf31c620",
   "metadata": {},
   "outputs": [
    {
     "name": "stdout",
     "output_type": "stream",
     "text": [
      "Answer part 1: 281\n"
     ]
    }
   ],
   "source": [
    "# Solution 1\n",
    "total_sum = sum(numbers)\n",
    "print(\"Answer part 1: \" + str(total_sum))"
   ]
  },
  {
   "cell_type": "markdown",
   "id": "f326aae8-a67e-48fa-9a66-35fd969c1623",
   "metadata": {},
   "source": [
    "# Part 2 "
   ]
  },
  {
   "cell_type": "code",
   "execution_count": 42,
   "id": "46608569-e0b0-458e-aecd-eb2335b605f0",
   "metadata": {},
   "outputs": [
    {
     "name": "stdout",
     "output_type": "stream",
     "text": [
      "Answer part 2: 281\n"
     ]
    }
   ],
   "source": [
    "# Solution 2\n",
    "total_sum = sum(numbers)\n",
    "print(\"Answer part 2: \" + str(total_sum))"
   ]
  }
 ],
 "metadata": {
  "kernelspec": {
   "display_name": "Python 3 (ipykernel)",
   "language": "python",
   "name": "python3"
  },
  "language_info": {
   "codemirror_mode": {
    "name": "ipython",
    "version": 3
   },
   "file_extension": ".py",
   "mimetype": "text/x-python",
   "name": "python",
   "nbconvert_exporter": "python",
   "pygments_lexer": "ipython3",
   "version": "3.8.18"
  }
 },
 "nbformat": 4,
 "nbformat_minor": 5
}
