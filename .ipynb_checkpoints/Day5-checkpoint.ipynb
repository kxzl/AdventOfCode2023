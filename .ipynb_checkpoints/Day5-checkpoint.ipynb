{
 "cells": [
  {
   "cell_type": "markdown",
   "id": "f015226f-9cf6-4e35-9320-3c8c7c53ffd7",
   "metadata": {},
   "source": [
    "# Libraries"
   ]
  },
  {
   "cell_type": "code",
   "execution_count": 300,
   "id": "9553ebc1-a56e-4130-92d5-52dadc6f3eba",
   "metadata": {},
   "outputs": [],
   "source": [
    "#!pip install matplotlib\n",
    "# Pretty printing in Jupyter\n",
    "from IPython.display import display, Markdown"
   ]
  },
  {
   "cell_type": "code",
   "execution_count": 301,
   "id": "312cf184-3da4-42ee-afa7-27e3c2681123",
   "metadata": {},
   "outputs": [],
   "source": [
    "almanac = []\n",
    "seeds = []\n",
    "map_list = []\n",
    "\n",
    "with open('input.txt', 'r') as file:\n",
    "    for line in file:\n",
    "        line = line.strip()\n",
    "        if line.startswith('seeds:'):\n",
    "            seeds = list(map(int, line.split()[1:]))\n",
    "        elif line.endswith('map:'):\n",
    "            if map_list:  # check if map_list is not empty\n",
    "                almanac.append(map_list)\n",
    "            map_list = []\n",
    "        elif line != '':\n",
    "            map_list.append(list(map(int, line.split())))\n",
    "\n",
    "# append the last map_list to almanac\n",
    "if map_list:\n",
    "    almanac.append(map_list)"
   ]
  },
  {
   "cell_type": "code",
   "execution_count": 302,
   "id": "b9b196e7-d67a-431d-9d55-4ff9a87fe465",
   "metadata": {},
   "outputs": [],
   "source": [
    "#al_idx = 0\n",
    "#prev_val = seeds[0]\n",
    "\n",
    "def read_almanac_map(prev_val):\n",
    "\n",
    "    # 7 maps in total, loop through all maps in turn\n",
    "    for z in range(0,7):\n",
    "        al_map = almanac[z]\n",
    "        # Debug prints\n",
    "        #print('-------')\n",
    "        #print(al_map)\n",
    "        #print(prev_val)\n",
    "        # map size varies, loop through length of map.\n",
    "        for i in range(len(al_map)):\n",
    "            # check if seed or previous map value is in range of offset deffinition. If yes, get new value and go to next map. If yes continue to check map mappings\n",
    "            if prev_val >= al_map[i][1] and prev_val <= (al_map[i][1] + al_map[i][2]-1):\n",
    "                diff = prev_val - al_map[i][1]\n",
    "                prev_val = al_map[i][0] + diff\n",
    "                break\n",
    "\n",
    "    return prev_val"
   ]
  },
  {
   "cell_type": "markdown",
   "id": "b4d2757b-5082-42cf-be5a-1afde2ff6baa",
   "metadata": {},
   "source": [
    "# Part 1"
   ]
  },
  {
   "cell_type": "code",
   "execution_count": 303,
   "id": "2cc47256-08c9-4413-b16b-713f6bd38b3e",
   "metadata": {},
   "outputs": [],
   "source": [
    "res = []\n",
    "for s in seeds:\n",
    "    res.append(read_almanac_map(s))\n"
   ]
  },
  {
   "cell_type": "code",
   "execution_count": 304,
   "id": "a528b630-9e20-469d-bff2-2b65f1420b74",
   "metadata": {},
   "outputs": [
    {
     "data": {
      "text/markdown": [
       "## Answer part 1: 621354867"
      ],
      "text/plain": [
       "<IPython.core.display.Markdown object>"
      ]
     },
     "metadata": {},
     "output_type": "display_data"
    }
   ],
   "source": [
    "display(Markdown('## Answer part 1: ' + str(min(res))))"
   ]
  },
  {
   "cell_type": "markdown",
   "id": "d92bca44-c792-47c7-bf34-e7b7ac5ba1c8",
   "metadata": {},
   "source": [
    "# Part 2"
   ]
  },
  {
   "cell_type": "markdown",
   "id": "967930c8-6e99-41d9-bb7c-82e6227b7be1",
   "metadata": {},
   "source": [
    "Here is my \"smart\" solution"
   ]
  },
  {
   "cell_type": "code",
   "execution_count": 306,
   "id": "04ec466b-de1a-4815-929a-6179f4fdb456",
   "metadata": {},
   "outputs": [],
   "source": [
    "min_loc = 10**10\n",
    "prev_diff = 10**10  # Initialize with a large value\n",
    "\n",
    "for i in range(0,len(seeds),2):\n",
    "    z = 0\n",
    "    speed = 1  # Initialize speed of z increase\n",
    "    while z <= (seeds[i+1]-1):\n",
    "        now_loc = read_almanac_map(seeds[i]+z)\n",
    "        curr_diff = now_loc - min_loc\n",
    "        if curr_diff < prev_diff:  # If diff is decreasing\n",
    "            z = z - speed #back of back a step to search change in diff more thouroughly\n",
    "            speed = 1  # Reset speed to 1\n",
    "        else:  # If diff is increasing\n",
    "            speed = min(speed * 2, 10000)  # Double the speed, up to given limit\n",
    "        min_loc = min(min_loc, now_loc)  # Update min_loc\n",
    "        prev_diff = curr_diff  # Update prev_diff for the next iteration\n",
    "        z += speed  # Increase z by speed\n",
    "\n",
    "#print(seeds[i]+z)\n",
    "#print(min_loc)"
   ]
  },
  {
   "cell_type": "code",
   "execution_count": 307,
   "id": "9ba7e508-478a-4cbd-8727-17ac019c41aa",
   "metadata": {},
   "outputs": [
    {
     "data": {
      "text/markdown": [
       "## Answer part 2: 15880236"
      ],
      "text/plain": [
       "<IPython.core.display.Markdown object>"
      ]
     },
     "metadata": {},
     "output_type": "display_data"
    }
   ],
   "source": [
    "display(Markdown('## Answer part 2: ' + str(min_loc)))"
   ]
  },
  {
   "cell_type": "markdown",
   "id": "b2af6049-2fee-419e-9a60-26acc2b50506",
   "metadata": {},
   "source": [
    "Here is my brute force solution with reverse search"
   ]
  },
  {
   "cell_type": "code",
   "execution_count": 308,
   "id": "5c75e6e1-2a7e-4b93-bafe-5ee19bdf3101",
   "metadata": {},
   "outputs": [],
   "source": [
    "def reverse_read_almanac_map(prev_val):\n",
    "\n",
    "    # 7 maps in total, loop through all maps in reverse order\n",
    "    for z in range(6, -1, -1):\n",
    "        al_map = almanac[z]\n",
    "        # map size varies, loop through length of map.\n",
    "        for i in range(len(al_map)-1, -1, -1):\n",
    "            # check if seed or previous map value is in range of offset definition. If yes, get new value and go to next map. If yes continue to check map mappings\n",
    "            if prev_val >= al_map[i][0] and prev_val <= (al_map[i][0] + al_map[i][2]-1):\n",
    "                diff = prev_val - al_map[i][0]\n",
    "                prev_val = al_map[i][1] + diff\n",
    "                break\n",
    "\n",
    "    return prev_val"
   ]
  },
  {
   "cell_type": "code",
   "execution_count": 311,
   "id": "126137f4-ed77-4fe6-8926-fe90cfbfa133",
   "metadata": {},
   "outputs": [
    {
     "name": "stdout",
     "output_type": "stream",
     "text": [
      "found! 15880236\n"
     ]
    }
   ],
   "source": [
    "location = min_loc - 1000 # just to demonstrate\n",
    "found = False\n",
    "while True:\n",
    "    current_seed = reverse_read_almanac_map(location)\n",
    "    for i in range(0,len(seeds),2):\n",
    "        if current_seed >= seeds[i] and current_seed <= (seeds[i] + seeds[i+1]-1):\n",
    "            print('found! ' + str(location))\n",
    "            found = True\n",
    "            break\n",
    "    if found:\n",
    "        break\n",
    "    location += 1\n",
    "    if location % 1000000 == 0:\n",
    "        print('Location at iteration: '+ str(location))\n",
    "\n",
    "# gives same result as above"
   ]
  },
  {
   "cell_type": "code",
   "execution_count": 312,
   "id": "7ace6119-ed86-4171-8880-9f9f73421d7d",
   "metadata": {},
   "outputs": [
    {
     "data": {
      "text/markdown": [
       "## Answer part 2: 15880236"
      ],
      "text/plain": [
       "<IPython.core.display.Markdown object>"
      ]
     },
     "metadata": {},
     "output_type": "display_data"
    }
   ],
   "source": [
    "display(Markdown('## Answer part 2: ' + str(location)))"
   ]
  },
  {
   "cell_type": "code",
   "execution_count": null,
   "id": "840935e9-874b-4d46-b733-3ede1de57013",
   "metadata": {},
   "outputs": [],
   "source": []
  }
 ],
 "metadata": {
  "kernelspec": {
   "display_name": "Python 3 (ipykernel)",
   "language": "python",
   "name": "python3"
  },
  "language_info": {
   "codemirror_mode": {
    "name": "ipython",
    "version": 3
   },
   "file_extension": ".py",
   "mimetype": "text/x-python",
   "name": "python",
   "nbconvert_exporter": "python",
   "pygments_lexer": "ipython3",
   "version": "3.10.12"
  }
 },
 "nbformat": 4,
 "nbformat_minor": 5
}
