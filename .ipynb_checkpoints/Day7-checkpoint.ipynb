{
 "cells": [
  {
   "cell_type": "markdown",
   "id": "90fbec3d-4f80-427e-b133-b22df32c046a",
   "metadata": {},
   "source": [
    "# Libraries"
   ]
  },
  {
   "cell_type": "code",
   "execution_count": 1,
   "id": "8072f521-9bca-4fd2-a131-5ecd36b3ad5c",
   "metadata": {},
   "outputs": [],
   "source": [
    "import pandas as pd\n",
    "# Pretty printing in Jupyter\n",
    "from IPython.display import display, Markdown"
   ]
  },
  {
   "cell_type": "markdown",
   "id": "5d88c99c-363d-4631-b2c1-64fd1aa927fd",
   "metadata": {},
   "source": [
    "## Card types\n",
    "\n",
    "A, K, Q, J, T, 9, 8, 7, 6, 5, 4, 3, or 2. The relative strength of each card follows this order, where A is the highest and 2 is the lowest.\n",
    "\n",
    "## Handtypes overview\n",
    "\n",
    "**Five of a kind**: All cards same label (AAAAA)  \n",
    "**Four of a kind**: Four cards same label, one different (AA8AA)  \n",
    "**Full house**: Three cards same label, two cards same different label (23332)  \n",
    "**Three of a kind**: Three cards same label, two cards distinct (TTT98)  \n",
    "**Two pair**: Two cards same label, two cards same different label, one distinct card (23432)  \n",
    "**One pair**: Two cards same label, three distinct cards (A23A4)  \n",
    "**High card**: All cards distinct (23456)  \n",
    "\n"
   ]
  },
  {
   "cell_type": "code",
   "execution_count": 8,
   "id": "a3c7b52d-6ae6-406e-907f-de78fa0955f4",
   "metadata": {},
   "outputs": [],
   "source": [
    "# Define handtype and assign a score 7 - 1. Need score for easy sorting\n",
    "def hand_type_strength(hand):\n",
    "    # Count the frequency of each card\n",
    "    freq = {card: hand.count(card) for card in hand}\n",
    "\n",
    "    # Determine the type of hand based on the frequency of the cards\n",
    "    if len(freq) == 1:\n",
    "        # \"Five of a kind\"\n",
    "        return 7\n",
    "    elif len(freq) == 2:\n",
    "        if 4 in freq.values():\n",
    "            # \"Four of a kind\"\n",
    "            return 6\n",
    "        else:\n",
    "            # \"Full house\"\n",
    "            return 5\n",
    "    elif len(freq) == 3:\n",
    "        if 3 in freq.values():\n",
    "            # \"Three of a kind\"\n",
    "            return 4\n",
    "        else:\n",
    "            # \"Two pair\"\n",
    "            return 3\n",
    "    elif len(freq) == 4:\n",
    "        # \"One pair\"\n",
    "        return 2\n",
    "    else:\n",
    "        # \"High card\"\n",
    "        return 1\n"
   ]
  },
  {
   "cell_type": "code",
   "execution_count": 27,
   "id": "323d7805-4665-4ae7-b3de-9d1c8abc3aba",
   "metadata": {},
   "outputs": [],
   "source": [
    "# Read the text file\n",
    "df = pd.read_csv('input.txt', delimiter=' ', header=None, names=['hand', 'score'])\n",
    "\n",
    "# Define the strength of each card\n",
    "card_strength = {'A': 14, 'K': 13, 'Q': 12, 'J': 11, 'T': 10, '9': 9, '8': 8, '7': 7, '6': 6, '5': 5, '4': 4, '3': 3, '2': 2}\n",
    "\n",
    "# Create new columns\n",
    "df['hand_type_strength'] = df['hand'].apply(hand_type_strength)\n",
    "df['card1'] = df['hand'].apply(lambda hand: card_strength[hand[0]])\n",
    "df['card2'] = df['hand'].apply(lambda hand: card_strength[hand[1]])\n",
    "df['card3'] = df['hand'].apply(lambda hand: card_strength[hand[2]])\n",
    "df['card4'] = df['hand'].apply(lambda hand: card_strength[hand[3]])\n",
    "df['card5'] = df['hand'].apply(lambda hand: card_strength[hand[4]])"
   ]
  },
  {
   "cell_type": "code",
   "execution_count": 28,
   "id": "22757a64-e9eb-4666-8312-f218e7490116",
   "metadata": {},
   "outputs": [],
   "source": [
    "# Sort the DataFrame\n",
    "df.sort_values(by=['hand_type_strength', 'card1', 'card2', 'card3', 'card4', 'card5'], ascending=[True, True, True, True, True, True], inplace=True)"
   ]
  },
  {
   "cell_type": "code",
   "execution_count": 29,
   "id": "20bfff03-99fc-46da-84b0-91315111758c",
   "metadata": {},
   "outputs": [],
   "source": [
    "# Calcualte total_score\n",
    "\n",
    "# Reset the index and drop the old index\n",
    "df.reset_index(drop=True, inplace=True)\n",
    "\n",
    "# Add 1 to the index (because Python uses 0-based indexing) and multiply it with the score\n",
    "df['total_score'] = [(idx+1) * row['score'] for idx, row in df.iterrows()]"
   ]
  },
  {
   "cell_type": "markdown",
   "id": "2cea47be-ed34-4f8a-8552-11f4cad650f1",
   "metadata": {},
   "source": [
    "# Part 1"
   ]
  },
  {
   "cell_type": "code",
   "execution_count": 30,
   "id": "f64351eb-8dae-4f39-9c66-eb154caa0eb1",
   "metadata": {},
   "outputs": [
    {
     "data": {
      "text/markdown": [
       "## Answer part 1: 253205868"
      ],
      "text/plain": [
       "<IPython.core.display.Markdown object>"
      ]
     },
     "metadata": {},
     "output_type": "display_data"
    }
   ],
   "source": [
    "display(Markdown('## Answer part 1: ' + str(df['total_score'].sum())))"
   ]
  },
  {
   "cell_type": "code",
   "execution_count": 50,
   "id": "7b9f27b6-de44-40a0-8fa8-b10d29d2a311",
   "metadata": {},
   "outputs": [],
   "source": [
    "def generate_hands(hand):\n",
    "    cards='AKQT98765432'\n",
    "    # Base case: if the hand contains no 'J', return a list containing the hand\n",
    "    if 'J' not in hand:\n",
    "        return [hand]\n",
    "\n",
    "    # Recursive case: if the hand contains a 'J', replace it with each card and recurse\n",
    "    hands = []\n",
    "    for card in cards:\n",
    "        new_hand = hand.replace('J', card, 1)\n",
    "        hands.extend(generate_hands(new_hand))\n",
    "    return hands\n",
    "\n",
    "def hand_type_with_wildcard(hand):\n",
    "    # Generate all possible hands\n",
    "    hands = generate_hands(hand)\n",
    "\n",
    "    # Determine the strongest possible hand\n",
    "    max_strength = 0\n",
    "    for new_hand in hands:\n",
    "        new_strength = hand_type_strength(new_hand)\n",
    "        if new_strength > max_strength:\n",
    "            max_strength = new_strength\n",
    "            hand = new_hand\n",
    "\n",
    "    # Return the strongest possible hand and its strength\n",
    "    return max_strength"
   ]
  },
  {
   "cell_type": "code",
   "execution_count": 53,
   "id": "4ca0e8e7-3216-42ed-9248-82c0955ae038",
   "metadata": {},
   "outputs": [
    {
     "data": {
      "text/plain": [
       "3"
      ]
     },
     "execution_count": 53,
     "metadata": {},
     "output_type": "execute_result"
    }
   ],
   "source": [
    "hand_type_with_wildcard('QQTTA')"
   ]
  },
  {
   "cell_type": "code",
   "execution_count": 54,
   "id": "a6631613-eb0e-4b23-ba00-c02e24014e96",
   "metadata": {},
   "outputs": [],
   "source": [
    "# Define the strength of each card\n",
    "card_strength = {'A': 14, 'K': 13, 'Q': 12, 'T': 10, '9': 9, '8': 8, '7': 7, '6': 6, '5': 5, '4': 4, '3': 3, '2': 2, 'J': 1}\n",
    "\n",
    "# Create new columns\n",
    "df['hand_type_strength'] = df['hand'].apply(hand_type_with_wildcard)\n",
    "df['card1'] = df['hand'].apply(lambda hand: card_strength[hand[0]])\n",
    "df['card2'] = df['hand'].apply(lambda hand: card_strength[hand[1]])\n",
    "df['card3'] = df['hand'].apply(lambda hand: card_strength[hand[2]])\n",
    "df['card4'] = df['hand'].apply(lambda hand: card_strength[hand[3]])\n",
    "df['card5'] = df['hand'].apply(lambda hand: card_strength[hand[4]])"
   ]
  },
  {
   "cell_type": "code",
   "execution_count": 55,
   "id": "fb685002-4f94-4240-9f89-890e3ac9098a",
   "metadata": {},
   "outputs": [],
   "source": [
    "# Sort the DataFrame\n",
    "df.sort_values(by=['hand_type_strength', 'card1', 'card2', 'card3', 'card4', 'card5'], ascending=[True, True, True, True, True, True], inplace=True)"
   ]
  },
  {
   "cell_type": "code",
   "execution_count": 56,
   "id": "37d192ca-cff7-43f2-9563-b044aa0c2b52",
   "metadata": {},
   "outputs": [],
   "source": [
    "# Calcualte total_score\n",
    "\n",
    "# Reset the index and drop the old index\n",
    "df.reset_index(drop=True, inplace=True)\n",
    "\n",
    "# Add 1 to the index (because Python uses 0-based indexing) and multiply it with the score\n",
    "df['total_score'] = [(idx+1) * row['score'] for idx, row in df.iterrows()]"
   ]
  },
  {
   "cell_type": "code",
   "execution_count": 57,
   "id": "70b3ec41-ba53-4323-98d3-7aa110365cd6",
   "metadata": {},
   "outputs": [
    {
     "data": {
      "text/markdown": [
       "## Answer part 1: 253907829"
      ],
      "text/plain": [
       "<IPython.core.display.Markdown object>"
      ]
     },
     "metadata": {},
     "output_type": "display_data"
    }
   ],
   "source": [
    "display(Markdown('## Answer part 1: ' + str(df['total_score'].sum())))"
   ]
  }
 ],
 "metadata": {
  "kernelspec": {
   "display_name": "Python 3 (ipykernel)",
   "language": "python",
   "name": "python3"
  },
  "language_info": {
   "codemirror_mode": {
    "name": "ipython",
    "version": 3
   },
   "file_extension": ".py",
   "mimetype": "text/x-python",
   "name": "python",
   "nbconvert_exporter": "python",
   "pygments_lexer": "ipython3",
   "version": "3.10.12"
  }
 },
 "nbformat": 4,
 "nbformat_minor": 5
}
