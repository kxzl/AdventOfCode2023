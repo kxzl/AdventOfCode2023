{
 "cells": [
  {
   "cell_type": "markdown",
   "id": "125d1d2a-ba40-43e1-aaa1-07b4a014cbd7",
   "metadata": {},
   "source": [
    "# Libraries"
   ]
  },
  {
   "cell_type": "code",
   "execution_count": 1,
   "id": "426c83c0-d251-4e39-a5b0-1d09b569a8b4",
   "metadata": {},
   "outputs": [],
   "source": [
    "#!pip install pandas\n",
    "import pandas as pd\n",
    "import re\n",
    "\n",
    "# Pretty printing in Jupyter\n",
    "from IPython.display import display, Markdown"
   ]
  },
  {
   "cell_type": "markdown",
   "id": "7cdd0a86-e4fa-427e-b23a-e56e333a868e",
   "metadata": {},
   "source": [
    "# Part 1"
   ]
  },
  {
   "cell_type": "code",
   "execution_count": 45,
   "id": "c4511ab5-5a1b-4aba-b5c3-6a79538a0aad",
   "metadata": {},
   "outputs": [],
   "source": [
    "\n",
    "# Initialize an empty dictionary to store the data\n",
    "bag = {'game': [], 'Red': [], 'Green': [], 'Blue': []}\n",
    "\n",
    "# Open and read the text file\n",
    "with open('input.txt', 'r') as file:\n",
    "    for line in file:\n",
    "        # Split the line into game id and color counts\n",
    "        game_id, color_counts = line.split(': ')\n",
    "        game_id = int(game_id.split(' ')[1])\n",
    "\n",
    "        # Initialize the maximum counts of each color to 0\n",
    "        max_red = max_green = max_blue = 0\n",
    "\n",
    "        # Split the color counts by '; '\n",
    "        color_counts = color_counts.split('; ')\n",
    "\n",
    "        # For each color count\n",
    "        for color_count in color_counts:\n",
    "            # Split the color count into color and count\n",
    "            color_count = color_count.split(', ')\n",
    "            for cc in color_count:\n",
    "                count, color = cc.split(' ')\n",
    "                count = int(count)\n",
    "\n",
    "                # Update the maximum count of each color\n",
    "                if color == 'red':\n",
    "                    max_red = max(max_red, count)\n",
    "                elif color == 'green':\n",
    "                    max_green = max(max_green, count)\n",
    "                elif color == 'blue':\n",
    "                    max_blue = max(max_blue, count)\n",
    "\n",
    "        # Store the game id and the maximum counts of each color in the dictionary\n",
    "        bag['game'].append(game_id)\n",
    "        bag['Red'].append(max_red)\n",
    "        bag['Green'].append(max_green)\n",
    "        bag['Blue'].append(max_blue)\n",
    "\n",
    "# Convert the dictionary into a pandas DataFrame\n",
    "df = pd.DataFrame(bag)"
   ]
  },
  {
   "cell_type": "code",
   "execution_count": 46,
   "id": "5ebd821d-2221-4ed1-beaa-3d8ed4688187",
   "metadata": {},
   "outputs": [],
   "source": [
    "# which games would have been possible if the bag contained only 12 red cubes, 13 green cubes, and 14 blue cubes\n",
    "\n",
    "filtered_df = df[(df['Red'] <= 12) & (df['Green'] <= 13) & (df['Blue'] <= 14)]"
   ]
  },
  {
   "cell_type": "code",
   "execution_count": 47,
   "id": "c8f14f5a-e723-414f-897d-fa961275bb0e",
   "metadata": {},
   "outputs": [
    {
     "data": {
      "text/markdown": [
       "## Answer part 1: 2696"
      ],
      "text/plain": [
       "<IPython.core.display.Markdown object>"
      ]
     },
     "metadata": {},
     "output_type": "display_data"
    }
   ],
   "source": [
    "total_games = filtered_df['game'].sum()\n",
    "display(Markdown('## Answer part 1: ' + str(total_games)))"
   ]
  },
  {
   "cell_type": "code",
   "execution_count": null,
   "id": "e5154387-cc5f-4e82-8713-9b77db8d55a4",
   "metadata": {},
   "outputs": [],
   "source": [
    "2079 to low\n",
    "2640 wrong\n",
    "2696 to high\n"
   ]
  }
 ],
 "metadata": {
  "kernelspec": {
   "display_name": "Python 3 (ipykernel)",
   "language": "python",
   "name": "python3"
  },
  "language_info": {
   "codemirror_mode": {
    "name": "ipython",
    "version": 3
   },
   "file_extension": ".py",
   "mimetype": "text/x-python",
   "name": "python",
   "nbconvert_exporter": "python",
   "pygments_lexer": "ipython3",
   "version": "3.8.18"
  }
 },
 "nbformat": 4,
 "nbformat_minor": 5
}
