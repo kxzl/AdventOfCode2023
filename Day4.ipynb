{
 "cells": [
  {
   "cell_type": "markdown",
   "id": "c7988c22-bfd5-4673-89b1-75f4f28d0a87",
   "metadata": {},
   "source": [
    "# Libraries "
   ]
  },
  {
   "cell_type": "code",
   "execution_count": 1,
   "id": "1b372b36-9492-4065-8569-d5f51dfe45dd",
   "metadata": {},
   "outputs": [],
   "source": [
    "import pandas as pd\n",
    "\n",
    "# Pretty printing in Jupyter\n",
    "from IPython.display import display, Markdown"
   ]
  },
  {
   "cell_type": "code",
   "execution_count": 106,
   "id": "2e178916-a53e-467b-b25a-322169d67f96",
   "metadata": {},
   "outputs": [],
   "source": [
    "#Read input\n",
    "# Open the text file and read the lines\n",
    "with open('input.txt', 'r') as file:\n",
    "    lines = file.readlines()"
   ]
  },
  {
   "cell_type": "code",
   "execution_count": 107,
   "id": "8ea6eacf-e5e5-4886-a94e-eb4cf27babac",
   "metadata": {},
   "outputs": [],
   "source": [
    "# Initialize two empty lists to store the data for the dataframes\n",
    "win = []\n",
    "scratch = []\n",
    "\n",
    "# Process each line\n",
    "for line in lines:\n",
    "    # Split the line into two parts\n",
    "    parts = line.split('|')\n",
    "\n",
    "    # Process the first part\n",
    "    part1 = parts[0].split(':')\n",
    "    part1_cardnum = part1[0].replace('Card ', '') # get number\n",
    "    part1_win = [int(x) for x in part1[1].strip().split(' ') if x.isdigit()]\n",
    "\n",
    "    #part1 = [part1_cardnum] + part1_win\n",
    "    part1 = part1_win\n",
    "    win.append(part1)\n",
    "    \n",
    "    # Process the second part\n",
    "    part2 = [int(x) for x in parts[1].strip().split(' ') if x.isdigit()] # some empty strings because input does not have uniform spacing. Remove them\n",
    "    scratch.append(part2)\n",
    "\n",
    "# Convert the lists into dataframes\n",
    "df_win = pd.DataFrame(win)\n",
    "df_scratch = pd.DataFrame(scratch)"
   ]
  },
  {
   "cell_type": "code",
   "execution_count": 108,
   "id": "82c08338-a84c-413c-80f8-ec9d18ecf6a5",
   "metadata": {},
   "outputs": [],
   "source": [
    "matches = df_win.apply(lambda row: row.isin(df_scratch.loc[row.name]).sum(), axis=1)"
   ]
  },
  {
   "cell_type": "markdown",
   "id": "a011bf76-5668-4219-9b5a-c70f566d70b7",
   "metadata": {},
   "source": [
    "# Part 1"
   ]
  },
  {
   "cell_type": "code",
   "execution_count": 109,
   "id": "0caf589b-3474-4a98-be50-9acac2991515",
   "metadata": {},
   "outputs": [
    {
     "data": {
      "text/markdown": [
       "## Answer part 1: 24706"
      ],
      "text/plain": [
       "<IPython.core.display.Markdown object>"
      ]
     },
     "metadata": {},
     "output_type": "display_data"
    }
   ],
   "source": [
    "points = matches.apply(lambda n: 2**(n-1) if n != 0 else 0)\n",
    "display(Markdown('## Answer part 1: ' + str(points.sum())))"
   ]
  },
  {
   "cell_type": "markdown",
   "id": "a67cdc8a-1e5d-4ca1-8f71-c3975f5c8be8",
   "metadata": {},
   "source": [
    "# Part 2"
   ]
  },
  {
   "cell_type": "code",
   "execution_count": 115,
   "id": "ddab7d7c-707f-4790-8980-9e90dd81cb26",
   "metadata": {},
   "outputs": [],
   "source": [
    "# Function to check the number of matches for each scratch card\n",
    "# This function is too slow, using optimized instead\n",
    "#def card_check (idx, scratchcards):\n",
    "#    # Get the number of matches for the current scratch card\n",
    "#    matchCards = matches.iloc[idx]\n",
    "#    # Increment the count for the current scratch card\n",
    "#    scratchcards.loc[idx, 'Count'] += 1\n",
    "#    # If there are matches for the current scratch card\n",
    "#    if matchCards != 0:\n",
    "#        # Iterate over the next matchCards number of scratch cards\n",
    "#        for i in range(1,matchCards+1):\n",
    "#            # Recursively call the card_check function for the next scratch card\n",
    "#            scratchcards = card_check(idx+i,scratchcards)\n",
    "#    # Return the updated scratchcards DataFrame\n",
    "#    return(scratchcards)\n",
    "#\n",
    "## Initialize a DataFrame to store the count for each scratch card\n",
    "#scratchcards = pd.DataFrame({'Count': [0]*len(matches)})\n",
    "## Iterate over all the scratch cards\n",
    "#for i in range(0,len(matches)):\n",
    "#    # Call the card_check function for each scratch card\n",
    "#    print('Iteration: ' + str(i) + ' of ' + str(len(matches)))\n",
    "#    scratchcards = card_check(i,scratchcards)\n",
    "\n",
    "# Faster by storing intermideate results\n",
    "def card_check_optimized(matches):\n",
    "    # Initialize a list to store the count for each scratch card\n",
    "    counts = [0]*len(matches)\n",
    "    # Iterate over all the scratch cards in reverse order\n",
    "    for i in range(len(matches)-1, -1, -1):\n",
    "        # Increment the count for the current scratch card\n",
    "        counts[i] += 1\n",
    "        # If there are matches for the current scratch card\n",
    "        if matches[i] != 0:\n",
    "            # Iterate over the next matchCards number of scratch cards\n",
    "            for j in range(1, matches[i] + 1):\n",
    "                # If the index is within the range\n",
    "                if i + j < len(matches):\n",
    "                    # Add the count of the next scratch card to the current one\n",
    "                    counts[i] += counts[i + j]\n",
    "    # Return the counts as a DataFrame\n",
    "    return pd.DataFrame({'Count': counts})\n",
    "\n",
    "# Call the optimized function and print the result\n"
   ]
  },
  {
   "cell_type": "code",
   "execution_count": 116,
   "id": "efab8fd2-bfff-49dc-834c-a1947d15ba89",
   "metadata": {},
   "outputs": [
    {
     "data": {
      "text/markdown": [
       "## Answer part 2: Count    13114317\n",
       "dtype: int64"
      ],
      "text/plain": [
       "<IPython.core.display.Markdown object>"
      ]
     },
     "metadata": {},
     "output_type": "display_data"
    }
   ],
   "source": [
    "display(Markdown('## Answer part 2: ' + str(card_check_optimized(matches).sum())))"
   ]
  }
 ],
 "metadata": {
  "kernelspec": {
   "display_name": "Python 3 (ipykernel)",
   "language": "python",
   "name": "python3"
  },
  "language_info": {
   "codemirror_mode": {
    "name": "ipython",
    "version": 3
   },
   "file_extension": ".py",
   "mimetype": "text/x-python",
   "name": "python",
   "nbconvert_exporter": "python",
   "pygments_lexer": "ipython3",
   "version": "3.10.12"
  }
 },
 "nbformat": 4,
 "nbformat_minor": 5
}
