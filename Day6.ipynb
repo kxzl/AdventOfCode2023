{
 "cells": [
  {
   "cell_type": "markdown",
   "id": "38854d7c-ab50-45ed-bc86-baa1e0a89b55",
   "metadata": {},
   "source": [
    "# Libraries"
   ]
  },
  {
   "cell_type": "code",
   "execution_count": 63,
   "id": "66005948-5480-4e0c-a1ab-06b2ccdce9c1",
   "metadata": {},
   "outputs": [],
   "source": [
    "import pandas as pd\n",
    "import math\n",
    "# Pretty printing in Jupyter\n",
    "from IPython.display import display, Markdown"
   ]
  },
  {
   "cell_type": "code",
   "execution_count": 64,
   "id": "c4246b92-6015-4e6e-9cd8-4b48cbcafd2a",
   "metadata": {},
   "outputs": [],
   "source": [
    "# Read the file\n",
    "with open('input.txt', 'r') as f:\n",
    "    lines = f.readlines()\n",
    "\n",
    "# Split each line into a list of words\n",
    "lines = [line.split() for line in lines]\n",
    "\n",
    "# Remove the first element of each list and convert to integers\n",
    "lines = [[int(x) for x in line[1:]] for line in lines]\n",
    "\n",
    "# Create a dictionary\n",
    "data = {'Time': lines[0], 'Distance': lines[1]}\n",
    "\n",
    "# Convert the dictionary to a DataFrame\n",
    "df = pd.DataFrame(data)"
   ]
  },
  {
   "cell_type": "markdown",
   "id": "dbbb402f-5296-4c42-bbe2-93b759dd23f2",
   "metadata": {},
   "source": [
    "button_hold = number of milliseconds the button is held down at the start\n",
    "speed = speed of the boat in mm/ms\n",
    "race_time = duration of the race in ms\n",
    "distance = total distance traveled in mm\n",
    "\n",
    "distance = speed * (race_time - button_hold)\n",
    "\n",
    "speed = button_hold\n",
    "\n",
    "distance = button_hold*race_time - button_hold^2\n",
    "\n",
    "In quadratic formula terms\n",
    "ax2+bx+c=0\n",
    "https://saylordotorg.github.io/text_intermediate-algebra/s09-02-quadratic-formula.html\n",
    "\n",
    "1*button_hold^2 + button_hold*(-race_time) + distance = 0\n",
    "This equation has 2 possible answers for all distances except the fastest\n",
    "\n"
   ]
  },
  {
   "cell_type": "code",
   "execution_count": 65,
   "id": "dc2ae9f0-a28a-4393-80a5-ff2f6db68396",
   "metadata": {},
   "outputs": [],
   "source": [
    "def solve_equation(race_time, distance):\n",
    "    a = 1\n",
    "    b = -race_time\n",
    "    c = distance\n",
    "\n",
    "    # calculate the discriminant\n",
    "    d = b**2 - 4*a*c\n",
    "\n",
    "    # check if the discriminant is positive, negative or zero\n",
    "    if d < 0:\n",
    "        return \"This equation has no real solution\"\n",
    "    elif d == 0:\n",
    "        x = -b / (2*a)\n",
    "        return round(x)\n",
    "    else:\n",
    "        x1 = (-b + math.sqrt(d)) / (2*a)\n",
    "        x2 = (-b - math.sqrt(d)) / (2*a)\n",
    "\n",
    "        if x1 % 1 != 0:\n",
    "            x1 = math.floor(x1) # This is maximum so value has to be floored\n",
    "        else:\n",
    "            x1 -= 1 #If value has 0 as remainder we have to subtract 1\n",
    "\n",
    "        if x2 % 1 != 0:\n",
    "            x2 = math.ceil(x2) # This is minimum so value has to be ceil\n",
    "        else:\n",
    "            x2 += 1 #If value has 0 as remainder we have to add 1\n",
    "        \n",
    "        return x1, x2"
   ]
  },
  {
   "cell_type": "code",
   "execution_count": 66,
   "id": "e31bb39b-ff55-4474-9ff7-72e2f40f9af7",
   "metadata": {},
   "outputs": [],
   "source": [
    "def calc_opportunities(max_hold, min_hold):\n",
    "    return max_hold - (min_hold - 1)"
   ]
  },
  {
   "cell_type": "code",
   "execution_count": 67,
   "id": "184dbba7-a491-4618-b00c-6c5ea54c35e8",
   "metadata": {},
   "outputs": [],
   "source": [
    "df['record_opportunities'] = df.apply(\n",
    "    lambda x: int(calc_opportunities(*solve_equation(x['Time'], x['Distance']))), \n",
    "    axis=1\n",
    ")"
   ]
  },
  {
   "cell_type": "markdown",
   "id": "ddb3828f-09fc-4e6c-8eaf-e4dc5d058c62",
   "metadata": {},
   "source": [
    "# Part 1 "
   ]
  },
  {
   "cell_type": "code",
   "execution_count": 68,
   "id": "efe203e9-036e-450b-bac5-da8e4a12d182",
   "metadata": {},
   "outputs": [
    {
     "data": {
      "text/markdown": [
       "## Answer part 1: 32076"
      ],
      "text/plain": [
       "<IPython.core.display.Markdown object>"
      ]
     },
     "metadata": {},
     "output_type": "display_data"
    }
   ],
   "source": [
    "solution_part1 = df['record_opportunities'].prod()\n",
    "display(Markdown('## Answer part 1: ' + str(solution_part1)))"
   ]
  },
  {
   "cell_type": "markdown",
   "id": "beb15e8e-1eb8-4fd8-b94b-4d52a427c5f7",
   "metadata": {},
   "source": [
    "# Part 2"
   ]
  },
  {
   "cell_type": "code",
   "execution_count": 76,
   "id": "8b5b80fa-0978-494a-a9fe-44f228329f9a",
   "metadata": {},
   "outputs": [],
   "source": [
    "# Read the file\n",
    "with open('input.txt', 'r') as f:\n",
    "    lines = f.readlines()\n",
    "\n",
    "time_line = lines[0].split()\n",
    "dist_line = lines[1].split()\n",
    "\n",
    "time_nums = [int(x) for x in time_line[1:]]  \n",
    "dist_nums = [int(x) for x in dist_line[1:]]\n",
    "\n",
    "df = pd.DataFrame({'Time': [int(''.join(str(x) for x in time_nums))],  \n",
    "                   'Distance': [int(''.join(str(x) for x in dist_nums))]})"
   ]
  },
  {
   "cell_type": "code",
   "execution_count": 77,
   "id": "51156833-08b1-4a5a-bfe5-f1b791a40a66",
   "metadata": {},
   "outputs": [],
   "source": [
    "df['record_opportunities'] = df.apply(\n",
    "    lambda x: int(calc_opportunities(*solve_equation(x['Time'], x['Distance']))), \n",
    "    axis=1\n",
    ")"
   ]
  },
  {
   "cell_type": "code",
   "execution_count": 78,
   "id": "b0af04f7-b832-4818-8e98-c4b9914c2ec9",
   "metadata": {},
   "outputs": [
    {
     "data": {
      "text/markdown": [
       "## Answer part 1: 0    34278221\n",
       "Name: record_opportunities, dtype: int64"
      ],
      "text/plain": [
       "<IPython.core.display.Markdown object>"
      ]
     },
     "metadata": {},
     "output_type": "display_data"
    }
   ],
   "source": [
    "display(Markdown('## Answer part 1: ' + str(df['record_opportunities'])))"
   ]
  }
 ],
 "metadata": {
  "kernelspec": {
   "display_name": "Python 3 (ipykernel)",
   "language": "python",
   "name": "python3"
  },
  "language_info": {
   "codemirror_mode": {
    "name": "ipython",
    "version": 3
   },
   "file_extension": ".py",
   "mimetype": "text/x-python",
   "name": "python",
   "nbconvert_exporter": "python",
   "pygments_lexer": "ipython3",
   "version": "3.10.12"
  }
 },
 "nbformat": 4,
 "nbformat_minor": 5
}
