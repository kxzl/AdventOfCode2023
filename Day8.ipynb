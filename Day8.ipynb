{
 "cells": [
  {
   "cell_type": "markdown",
   "id": "59d01c35-90f8-42dc-81b7-1c6810075f5c",
   "metadata": {},
   "source": [
    "# Libraries"
   ]
  },
  {
   "cell_type": "code",
   "execution_count": 72,
   "id": "8bf7aec1-0eea-426a-a6f4-0e25cd09e478",
   "metadata": {},
   "outputs": [],
   "source": [
    "import pandas as pd\n",
    "# Pretty printing in Jupyter\n",
    "from IPython.display import display, Markdown"
   ]
  },
  {
   "cell_type": "code",
   "execution_count": 73,
   "id": "4e209ac7-5b4f-4e62-af99-a1d3538b6396",
   "metadata": {},
   "outputs": [],
   "source": [
    "with open('input.txt', 'r') as file:\n",
    "    # Read the first line and save it as a list\n",
    "\n",
    "    instructions = list(file.readline().strip())\n",
    "\n",
    "    # Initialize an empty list to store the rest of the lines\n",
    "    nodes = []\n",
    "\n",
    "    # Loop through the rest of the lines in the file\n",
    "    for line in file:\n",
    "        # Check if the line is not empty\n",
    "        if line.strip():\n",
    "            # Remove the parentheses and commas, then split the line into a list of words\n",
    "            words = line.replace('= (', '').replace(')', '').replace(',', '').split()\n",
    "\n",
    "            # Append the list of words to the data list\n",
    "            nodes.append(words)\n",
    "\n",
    "# Convert the nodes list to a DataFrame\n",
    "df = pd.DataFrame(nodes, columns=['Node', 'L', 'R'])"
   ]
  },
  {
   "cell_type": "code",
   "execution_count": 74,
   "id": "cd7bf6f1-0a33-46d0-8620-4a33b628d38d",
   "metadata": {},
   "outputs": [],
   "source": [
    "def follow_instructions(instructions, df, start, end):\n",
    "    # Convert the DataFrame to a dictionary\n",
    "    data_dict = df.set_index('Node').T.to_dict('list')\n",
    "\n",
    "    # Start at the first element of the first row\n",
    "    current = start\n",
    "\n",
    "    # Initialize a counter for the steps\n",
    "    steps = 0\n",
    "\n",
    "    # Get the number of instructions\n",
    "    num_instructions = len(instructions)\n",
    "\n",
    "    # Repeat the instructions until 'ZZZ' is encountered\n",
    "    while current != end:\n",
    "        # Get the current instruction\n",
    "        instruction = instructions[steps % num_instructions]\n",
    "\n",
    "        # Find the row where the first element is current\n",
    "        if instruction == 'R':\n",
    "            current = data_dict[current][1]  # 'R' is at index 1\n",
    "        elif instruction == 'L':\n",
    "            current = data_dict[current][0]  # 'L' is at index 0\n",
    "\n",
    "        steps += 1\n",
    "\n",
    "    return steps"
   ]
  },
  {
   "cell_type": "markdown",
   "id": "e2bf03f2-80fd-41d5-b6c9-10ba9f8380f8",
   "metadata": {},
   "source": [
    "# Part 1 "
   ]
  },
  {
   "cell_type": "code",
   "execution_count": 75,
   "id": "9e461ca7-3198-4b2b-888e-233fd2e8e45f",
   "metadata": {},
   "outputs": [
    {
     "data": {
      "text/markdown": [
       "## Answer part 1: 19631"
      ],
      "text/plain": [
       "<IPython.core.display.Markdown object>"
      ]
     },
     "metadata": {},
     "output_type": "display_data"
    }
   ],
   "source": [
    "display(Markdown('## Answer part 1: ' + str(follow_instructions(instructions, df, 'AAA','ZZZ'))))"
   ]
  },
  {
   "cell_type": "code",
   "execution_count": 76,
   "id": "ca7ce1f6-7785-46c6-91dd-52117d89563d",
   "metadata": {},
   "outputs": [],
   "source": [
    "def follow_instructions2(instructions, df, start):\n",
    "    # Convert the DataFrame to a dictionary\n",
    "    data_dict = df.set_index('Node').T.to_dict('list')\n",
    "\n",
    "    # Start at the first element of the first row\n",
    "    current = start\n",
    "\n",
    "    # Initialize a counter for the steps\n",
    "    steps = 0\n",
    "\n",
    "    # Get the number of instructions\n",
    "    num_instructions = len(instructions)\n",
    "\n",
    "    # Repeat the instructions until a node ending with 'Z' is encountered\n",
    "    while not current.endswith('Z'):\n",
    "        # Get the current instruction\n",
    "        instruction = instructions[steps % num_instructions]\n",
    "\n",
    "        # Find the row where the first element is current\n",
    "        if instruction == 'R':\n",
    "            current = data_dict[current][1]  # 'R' is at index 1\n",
    "        elif instruction == 'L':\n",
    "            current = data_dict[current][0]  # 'L' is at index 0\n",
    "\n",
    "        steps += 1\n",
    "\n",
    "    return steps"
   ]
  },
  {
   "cell_type": "code",
   "execution_count": 77,
   "id": "78e1a308-268e-4e49-b86d-1040e965026a",
   "metadata": {},
   "outputs": [],
   "source": [
    "# Filter the DataFrame to only include rows where the 'Node' ends with 'A'\n",
    "filtered_df = df[df['Node'].str.endswith('A')]\n",
    "\n",
    "# Initialize an empty list to store the results\n",
    "results = []\n",
    "\n",
    "# Iterate over each row in the filtered DataFrame\n",
    "for index, row in filtered_df.iterrows():\n",
    "    # Get the 'Node' value from the current row\n",
    "    start = row['Node']\n",
    "\n",
    "    # Call the function follow_instructions2 with the instructions, the original DataFrame, and the start node\n",
    "    # The function returns the number of steps it takes to reach a node ending with 'Z'\n",
    "    steps = follow_instructions2(instructions, df, start)\n",
    "\n",
    "    # Append a list containing the start node and the number of steps to the results list\n",
    "    results.append([start, steps])\n",
    "\n",
    "# Convert the results list to a DataFrame with 'Start' and 'Steps' as column names\n",
    "results_df = pd.DataFrame(results, columns=['Start', 'Steps'])\n",
    "\n",
    "# Create a new column 'Sum' in the DataFrame that is a copy of the 'Steps' column\n",
    "results_df['Sum'] = results_df['Steps'].copy()"
   ]
  },
  {
   "cell_type": "code",
   "execution_count": 78,
   "id": "bf57dafd-129d-4fe0-9b8e-9fd157d4d4f6",
   "metadata": {},
   "outputs": [],
   "source": [
    "# Import the math module to use the gcd function\n",
    "import math\n",
    "\n",
    "# Define a function to calculate the least common multiple (LCM) of two numbers\n",
    "def lcm(a, b):\n",
    "    # The LCM is calculated as the absolute value of the product of the numbers divided by their greatest common divisor (GCD)\n",
    "    return abs(a*b) // math.gcd(a, b)\n",
    "\n",
    "# Extract the 'Steps' column from the DataFrame and convert it to a list\n",
    "# This list contains the numbers we want to find the LCM of\n",
    "numbers = results_df['Steps'].tolist()\n",
    "\n",
    "# Initialize the result to be the first number in the list\n",
    "result = numbers[0]\n",
    "\n",
    "# Iterate over the rest of the numbers in the list\n",
    "for num in numbers[1:]:\n",
    "    # Update the result to be the LCM of the current result and the current number\n",
    "    result = lcm(result, num)"
   ]
  },
  {
   "cell_type": "markdown",
   "id": "d30b34dd-6f7f-4a0f-8cb8-69e33587cc7e",
   "metadata": {},
   "source": [
    "# Part 2"
   ]
  },
  {
   "cell_type": "code",
   "execution_count": 79,
   "id": "b0d914e3-5f6f-4f5e-932a-625e1eb0494e",
   "metadata": {},
   "outputs": [
    {
     "data": {
      "text/markdown": [
       "## Answer part 2: 21003205388413"
      ],
      "text/plain": [
       "<IPython.core.display.Markdown object>"
      ]
     },
     "metadata": {},
     "output_type": "display_data"
    }
   ],
   "source": [
    "display(Markdown('## Answer part 2: ' + str(result)))"
   ]
  },
  {
   "cell_type": "code",
   "execution_count": null,
   "id": "432a37aa-ed95-4a51-ac58-006a96b3d999",
   "metadata": {},
   "outputs": [],
   "source": []
  }
 ],
 "metadata": {
  "kernelspec": {
   "display_name": "Python 3 (ipykernel)",
   "language": "python",
   "name": "python3"
  },
  "language_info": {
   "codemirror_mode": {
    "name": "ipython",
    "version": 3
   },
   "file_extension": ".py",
   "mimetype": "text/x-python",
   "name": "python",
   "nbconvert_exporter": "python",
   "pygments_lexer": "ipython3",
   "version": "3.8.18"
  }
 },
 "nbformat": 4,
 "nbformat_minor": 5
}
