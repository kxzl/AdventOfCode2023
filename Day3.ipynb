{
 "cells": [
  {
   "cell_type": "markdown",
   "id": "c8eec361-544b-4a2d-867c-f8384f246ed5",
   "metadata": {},
   "source": [
    "# Libraries"
   ]
  },
  {
   "cell_type": "code",
   "execution_count": 124,
   "id": "56bd3ac5-a2b1-477d-8e50-4d61c564f470",
   "metadata": {},
   "outputs": [],
   "source": [
    "#!pip install pandas\n",
    "import pandas as pd\n",
    "import re\n",
    "# Pretty printing in Jupyter\n",
    "from IPython.display import display, Markdown"
   ]
  },
  {
   "cell_type": "code",
   "execution_count": 125,
   "id": "7b6d5468-3707-4e2f-9c5c-7f290be3ae0f",
   "metadata": {},
   "outputs": [],
   "source": [
    "# Initialize an empty list to store the lines\n",
    "lines = []\n",
    "\n",
    "# Open the file and read line by line\n",
    "with open('input.txt', 'r') as f:\n",
    "    for line in f:\n",
    "        # Remove the newline character and split the line into characters\n",
    "        lines.append(list(line.strip()))\n",
    "\n",
    "# Convert the list of lines into a DataFrame\n",
    "df = pd.DataFrame(lines)\n",
    "\n",
    "# List of symbols\n",
    "symbols = ['*', '#', '+', '$']\n"
   ]
  },
  {
   "cell_type": "code",
   "execution_count": 126,
   "id": "6c1cf395-c70b-4ab5-837b-823ba18d245a",
   "metadata": {},
   "outputs": [],
   "source": [
    "# Get the shape of the dataframe\n",
    "rows, cols = df.shape\n",
    "\n",
    "# Create a list to store the found numbers\n",
    "found_numbers = []\n",
    "\n",
    "# Iterate over each cell in the dataframe\n",
    "for i in range(rows):\n",
    "    for j in range(cols):\n",
    "        # If the cell contains a symbol. Symbol = not a '.' or a digit\n",
    "        if not (df.iat[i, j] == '.' or df.iat[i, j].isdigit()):\n",
    "            # Check the adjacent cells\n",
    "            for x in range(max(0, i-1), min(i+2, rows)):\n",
    "                for y in range(max(0, j-1), min(j+2, cols)):\n",
    "                    # If an adjacent cell contains a number\n",
    "                    if df.iat[x, y].isdigit():\n",
    "                        # Find its neighbors on the same line and concatenate them\n",
    "                        left = y\n",
    "                        while left > 0 and df.iat[x, left-1].isdigit():\n",
    "                            left -= 1\n",
    "                        right = y\n",
    "                        while right < cols-1 and df.iat[x, right+1].isdigit():\n",
    "                            right += 1\n",
    "                        number = df.iloc[x, left:right+1].str.cat()\n",
    "                        # Only add the number if it's different from the previous one\n",
    "                        if not found_numbers or number != found_numbers[-1]:\n",
    "                            found_numbers.append(number)\n",
    "\n",
    "# Assuming found_numbers is your list\n",
    "df_found =  pd.DataFrame([int(num) for num in found_numbers], columns=['Found'])"
   ]
  },
  {
   "cell_type": "markdown",
   "id": "aefcb433-83c1-4149-a995-4f7e9f636245",
   "metadata": {},
   "source": [
    "# Part 1"
   ]
  },
  {
   "cell_type": "code",
   "execution_count": 127,
   "id": "07ad92b8-4344-477e-83ad-0b09572b3821",
   "metadata": {},
   "outputs": [
    {
     "data": {
      "text/markdown": [
       "## Answer part 1: Found    517021\n",
       "dtype: int64"
      ],
      "text/plain": [
       "<IPython.core.display.Markdown object>"
      ]
     },
     "metadata": {},
     "output_type": "display_data"
    }
   ],
   "source": [
    "total_found = df_found.sum()\n",
    "display(Markdown('## Answer part 1: ' + str(total_found)))"
   ]
  },
  {
   "cell_type": "markdown",
   "id": "becd1cdd-42ed-481c-9c78-23c90edce7c4",
   "metadata": {
    "editable": true,
    "slideshow": {
     "slide_type": ""
    },
    "tags": []
   },
   "source": [
    "# Part 2"
   ]
  },
  {
   "cell_type": "code",
   "execution_count": 121,
   "id": "053f8142-93e5-4bab-8817-51355d4e56e0",
   "metadata": {
    "editable": true,
    "slideshow": {
     "slide_type": ""
    },
    "tags": []
   },
   "outputs": [],
   "source": [
    "# Get the shape of the dataframe\n",
    "rows, cols = df.shape\n",
    "\n",
    "# Create a list to store the found gear ratios\n",
    "found_gearratio = []\n",
    "\n",
    "# Iterate over each cell in the dataframe\n",
    "for i in range(rows):\n",
    "    for j in range(cols):\n",
    "        # If the cell contains a symbol = *\n",
    "        if df.iat[i, j] == '*':\n",
    "            # Check the adjacent cells\n",
    "            numbers = set()\n",
    "            for x in range(max(0, i-1), min(i+2, rows)):\n",
    "                for y in range(max(0, j-1), min(j+2, cols)):\n",
    "                    # If an adjacent cell contains a number\n",
    "                    if df.iat[x, y].isdigit():\n",
    "                        # Find its neighbors on the same line and concatenate them\n",
    "                        left = y\n",
    "                        while left > 0 and df.iat[x, left-1].isdigit():\n",
    "                            left -= 1\n",
    "                        right = y\n",
    "                        while right < cols-1 and df.iat[x, right+1].isdigit():\n",
    "                            right += 1\n",
    "                        number = df.iloc[x, left:right+1].str.cat()\n",
    "                        numbers.add(int(number))\n",
    "            # If 2 unique numbers are found adjacent to same '*', append their product to found_gearratio\n",
    "            if len(numbers) >= 2:\n",
    "                # Debuging prints\n",
    "                #print('---------')\n",
    "                #print(numbers)\n",
    "                found_gearratio.append(numbers.pop() * numbers.pop())\n",
    "\n",
    "# Assuming found_gearratio is your list\n",
    "df_found =  pd.DataFrame(found_gearratio, columns=['Found'])"
   ]
  },
  {
   "cell_type": "code",
   "execution_count": 123,
   "id": "aff5567a-0242-4695-b451-3ba9477ea9cd",
   "metadata": {},
   "outputs": [
    {
     "data": {
      "text/markdown": [
       "## Answer part 2: Found    81296995\n",
       "dtype: int64"
      ],
      "text/plain": [
       "<IPython.core.display.Markdown object>"
      ]
     },
     "metadata": {},
     "output_type": "display_data"
    }
   ],
   "source": [
    "total_gearratio = df_found.sum()\n",
    "display(Markdown('## Answer part 2: ' + str(total_gearratio)))"
   ]
  }
 ],
 "metadata": {
  "kernelspec": {
   "display_name": "Python 3 (ipykernel)",
   "language": "python",
   "name": "python3"
  },
  "language_info": {
   "codemirror_mode": {
    "name": "ipython",
    "version": 3
   },
   "file_extension": ".py",
   "mimetype": "text/x-python",
   "name": "python",
   "nbconvert_exporter": "python",
   "pygments_lexer": "ipython3",
   "version": "3.8.18"
  }
 },
 "nbformat": 4,
 "nbformat_minor": 5
}
